{
 "cells": [
  {
   "cell_type": "code",
   "execution_count": 377,
   "metadata": {},
   "outputs": [],
   "source": [
    "import pandas as pd \n",
    "import numpy as np \n",
    "import matplotlib.pyplot as plt\n",
    "import seaborn as sns"
   ]
  },
  {
   "cell_type": "code",
   "execution_count": 378,
   "metadata": {
    "collapsed": true
   },
   "outputs": [],
   "source": [
    "df = pd.read_csv(r'C:\\Users\\Mayur\\Downloads\\Main_Divvy_File.csv')"
   ]
  },
  {
   "cell_type": "code",
   "execution_count": 379,
   "metadata": {},
   "outputs": [
    {
     "data": {
      "text/html": [
       "<div>\n",
       "<style>\n",
       "    .dataframe thead tr:only-child th {\n",
       "        text-align: right;\n",
       "    }\n",
       "\n",
       "    .dataframe thead th {\n",
       "        text-align: left;\n",
       "    }\n",
       "\n",
       "    .dataframe tbody tr th {\n",
       "        vertical-align: top;\n",
       "    }\n",
       "</style>\n",
       "<table border=\"1\" class=\"dataframe\">\n",
       "  <thead>\n",
       "    <tr style=\"text-align: right;\">\n",
       "      <th></th>\n",
       "      <th>start_time</th>\n",
       "      <th>end_time</th>\n",
       "      <th>bikeid</th>\n",
       "      <th>tripduration</th>\n",
       "      <th>from_station_id</th>\n",
       "      <th>from_station_name</th>\n",
       "      <th>to_station_id</th>\n",
       "      <th>to_station_name</th>\n",
       "      <th>usertype</th>\n",
       "      <th>gender</th>\n",
       "      <th>birthyear</th>\n",
       "      <th>trip_id</th>\n",
       "    </tr>\n",
       "  </thead>\n",
       "  <tbody>\n",
       "    <tr>\n",
       "      <th>0</th>\n",
       "      <td>3/31/2017 23:59:07</td>\n",
       "      <td>4/1/2017 00:13:24</td>\n",
       "      <td>5292.0</td>\n",
       "      <td>857.0</td>\n",
       "      <td>66.0</td>\n",
       "      <td>Clinton St &amp; Lake St</td>\n",
       "      <td>171.0</td>\n",
       "      <td>May St &amp; Cullerton St</td>\n",
       "      <td>Subscriber</td>\n",
       "      <td>Male</td>\n",
       "      <td>1989.0</td>\n",
       "      <td>13518905.0</td>\n",
       "    </tr>\n",
       "    <tr>\n",
       "      <th>1</th>\n",
       "      <td>3/31/2017 23:56:25</td>\n",
       "      <td>4/1/2017 00:00:21</td>\n",
       "      <td>4408.0</td>\n",
       "      <td>236.0</td>\n",
       "      <td>199.0</td>\n",
       "      <td>Wabash Ave &amp; Grand Ave</td>\n",
       "      <td>26.0</td>\n",
       "      <td>McClurg Ct &amp; Illinois St</td>\n",
       "      <td>Subscriber</td>\n",
       "      <td>Male</td>\n",
       "      <td>1990.0</td>\n",
       "      <td>13518904.0</td>\n",
       "    </tr>\n",
       "    <tr>\n",
       "      <th>2</th>\n",
       "      <td>3/31/2017 23:55:33</td>\n",
       "      <td>4/1/2017 00:01:21</td>\n",
       "      <td>696.0</td>\n",
       "      <td>348.0</td>\n",
       "      <td>520.0</td>\n",
       "      <td>Greenview Ave &amp; Jarvis Ave</td>\n",
       "      <td>432.0</td>\n",
       "      <td>Clark St &amp; Lunt Ave</td>\n",
       "      <td>Subscriber</td>\n",
       "      <td>Female</td>\n",
       "      <td>1979.0</td>\n",
       "      <td>13518903.0</td>\n",
       "    </tr>\n",
       "    <tr>\n",
       "      <th>3</th>\n",
       "      <td>3/31/2017 23:54:46</td>\n",
       "      <td>3/31/2017 23:59:34</td>\n",
       "      <td>4915.0</td>\n",
       "      <td>288.0</td>\n",
       "      <td>110.0</td>\n",
       "      <td>Dearborn St &amp; Erie St</td>\n",
       "      <td>142.0</td>\n",
       "      <td>McClurg Ct &amp; Erie St</td>\n",
       "      <td>Subscriber</td>\n",
       "      <td>Male</td>\n",
       "      <td>1985.0</td>\n",
       "      <td>13518902.0</td>\n",
       "    </tr>\n",
       "    <tr>\n",
       "      <th>4</th>\n",
       "      <td>3/31/2017 23:53:33</td>\n",
       "      <td>4/1/2017 00:00:28</td>\n",
       "      <td>4247.0</td>\n",
       "      <td>415.0</td>\n",
       "      <td>327.0</td>\n",
       "      <td>Sheffield Ave &amp; Webster Ave</td>\n",
       "      <td>331.0</td>\n",
       "      <td>Halsted St &amp; Blackhawk St (*)</td>\n",
       "      <td>Subscriber</td>\n",
       "      <td>Female</td>\n",
       "      <td>1989.0</td>\n",
       "      <td>13518901.0</td>\n",
       "    </tr>\n",
       "  </tbody>\n",
       "</table>\n",
       "</div>"
      ],
      "text/plain": [
       "           start_time            end_time  bikeid  tripduration  \\\n",
       "0  3/31/2017 23:59:07   4/1/2017 00:13:24  5292.0         857.0   \n",
       "1  3/31/2017 23:56:25   4/1/2017 00:00:21  4408.0         236.0   \n",
       "2  3/31/2017 23:55:33   4/1/2017 00:01:21   696.0         348.0   \n",
       "3  3/31/2017 23:54:46  3/31/2017 23:59:34  4915.0         288.0   \n",
       "4  3/31/2017 23:53:33   4/1/2017 00:00:28  4247.0         415.0   \n",
       "\n",
       "   from_station_id            from_station_name  to_station_id  \\\n",
       "0             66.0         Clinton St & Lake St          171.0   \n",
       "1            199.0       Wabash Ave & Grand Ave           26.0   \n",
       "2            520.0   Greenview Ave & Jarvis Ave          432.0   \n",
       "3            110.0        Dearborn St & Erie St          142.0   \n",
       "4            327.0  Sheffield Ave & Webster Ave          331.0   \n",
       "\n",
       "                 to_station_name    usertype  gender  birthyear     trip_id  \n",
       "0          May St & Cullerton St  Subscriber    Male     1989.0  13518905.0  \n",
       "1       McClurg Ct & Illinois St  Subscriber    Male     1990.0  13518904.0  \n",
       "2            Clark St & Lunt Ave  Subscriber  Female     1979.0  13518903.0  \n",
       "3           McClurg Ct & Erie St  Subscriber    Male     1985.0  13518902.0  \n",
       "4  Halsted St & Blackhawk St (*)  Subscriber  Female     1989.0  13518901.0  "
      ]
     },
     "execution_count": 379,
     "metadata": {},
     "output_type": "execute_result"
    }
   ],
   "source": [
    "df.head()"
   ]
  },
  {
   "cell_type": "code",
   "execution_count": 380,
   "metadata": {},
   "outputs": [
    {
     "data": {
      "text/plain": [
       "633550"
      ]
     },
     "execution_count": 380,
     "metadata": {},
     "output_type": "execute_result"
    }
   ],
   "source": [
    "sum(df.isnull().values.ravel())"
   ]
  },
  {
   "cell_type": "code",
   "execution_count": 381,
   "metadata": {},
   "outputs": [],
   "source": [
    "df=df.dropna()"
   ]
  },
  {
   "cell_type": "code",
   "execution_count": 382,
   "metadata": {},
   "outputs": [
    {
     "name": "stdout",
     "output_type": "stream",
     "text": [
      "<class 'pandas.core.frame.DataFrame'>\n",
      "Int64Index: 1234638 entries, 0 to 1551504\n",
      "Data columns (total 12 columns):\n",
      "start_time           1234638 non-null object\n",
      "end_time             1234638 non-null object\n",
      "bikeid               1234638 non-null float64\n",
      "tripduration         1234638 non-null float64\n",
      "from_station_id      1234638 non-null float64\n",
      "from_station_name    1234638 non-null object\n",
      "to_station_id        1234638 non-null float64\n",
      "to_station_name      1234638 non-null object\n",
      "usertype             1234638 non-null object\n",
      "gender               1234638 non-null object\n",
      "birthyear            1234638 non-null float64\n",
      "trip_id              1234638 non-null float64\n",
      "dtypes: float64(6), object(6)\n",
      "memory usage: 122.5+ MB\n"
     ]
    }
   ],
   "source": [
    "df.info()"
   ]
  },
  {
   "cell_type": "code",
   "execution_count": 383,
   "metadata": {},
   "outputs": [],
   "source": [
    "year=2017\n",
    "df.insert(11,'year', 2017)\n",
    "df['Age'] = df['year'] - df['birthyear']"
   ]
  },
  {
   "cell_type": "code",
   "execution_count": 386,
   "metadata": {},
   "outputs": [
    {
     "data": {
      "text/html": [
       "<div>\n",
       "<style>\n",
       "    .dataframe thead tr:only-child th {\n",
       "        text-align: right;\n",
       "    }\n",
       "\n",
       "    .dataframe thead th {\n",
       "        text-align: left;\n",
       "    }\n",
       "\n",
       "    .dataframe tbody tr th {\n",
       "        vertical-align: top;\n",
       "    }\n",
       "</style>\n",
       "<table border=\"1\" class=\"dataframe\">\n",
       "  <thead>\n",
       "    <tr style=\"text-align: right;\">\n",
       "      <th></th>\n",
       "      <th>start_time</th>\n",
       "      <th>end_time</th>\n",
       "      <th>bikeid</th>\n",
       "      <th>tripduration</th>\n",
       "      <th>from_station_id</th>\n",
       "      <th>from_station_name</th>\n",
       "      <th>to_station_id</th>\n",
       "      <th>to_station_name</th>\n",
       "      <th>usertype</th>\n",
       "      <th>gender</th>\n",
       "      <th>birthyear</th>\n",
       "      <th>trip_id</th>\n",
       "      <th>Age</th>\n",
       "    </tr>\n",
       "  </thead>\n",
       "  <tbody>\n",
       "    <tr>\n",
       "      <th>0</th>\n",
       "      <td>3/31/2017 23:59:07</td>\n",
       "      <td>4/1/2017 00:13:24</td>\n",
       "      <td>5292.0</td>\n",
       "      <td>857.0</td>\n",
       "      <td>66.0</td>\n",
       "      <td>Clinton St &amp; Lake St</td>\n",
       "      <td>171.0</td>\n",
       "      <td>May St &amp; Cullerton St</td>\n",
       "      <td>Subscriber</td>\n",
       "      <td>Male</td>\n",
       "      <td>1989.0</td>\n",
       "      <td>13518905.0</td>\n",
       "      <td>28.0</td>\n",
       "    </tr>\n",
       "    <tr>\n",
       "      <th>1</th>\n",
       "      <td>3/31/2017 23:56:25</td>\n",
       "      <td>4/1/2017 00:00:21</td>\n",
       "      <td>4408.0</td>\n",
       "      <td>236.0</td>\n",
       "      <td>199.0</td>\n",
       "      <td>Wabash Ave &amp; Grand Ave</td>\n",
       "      <td>26.0</td>\n",
       "      <td>McClurg Ct &amp; Illinois St</td>\n",
       "      <td>Subscriber</td>\n",
       "      <td>Male</td>\n",
       "      <td>1990.0</td>\n",
       "      <td>13518904.0</td>\n",
       "      <td>27.0</td>\n",
       "    </tr>\n",
       "    <tr>\n",
       "      <th>2</th>\n",
       "      <td>3/31/2017 23:55:33</td>\n",
       "      <td>4/1/2017 00:01:21</td>\n",
       "      <td>696.0</td>\n",
       "      <td>348.0</td>\n",
       "      <td>520.0</td>\n",
       "      <td>Greenview Ave &amp; Jarvis Ave</td>\n",
       "      <td>432.0</td>\n",
       "      <td>Clark St &amp; Lunt Ave</td>\n",
       "      <td>Subscriber</td>\n",
       "      <td>Female</td>\n",
       "      <td>1979.0</td>\n",
       "      <td>13518903.0</td>\n",
       "      <td>38.0</td>\n",
       "    </tr>\n",
       "    <tr>\n",
       "      <th>3</th>\n",
       "      <td>3/31/2017 23:54:46</td>\n",
       "      <td>3/31/2017 23:59:34</td>\n",
       "      <td>4915.0</td>\n",
       "      <td>288.0</td>\n",
       "      <td>110.0</td>\n",
       "      <td>Dearborn St &amp; Erie St</td>\n",
       "      <td>142.0</td>\n",
       "      <td>McClurg Ct &amp; Erie St</td>\n",
       "      <td>Subscriber</td>\n",
       "      <td>Male</td>\n",
       "      <td>1985.0</td>\n",
       "      <td>13518902.0</td>\n",
       "      <td>32.0</td>\n",
       "    </tr>\n",
       "    <tr>\n",
       "      <th>4</th>\n",
       "      <td>3/31/2017 23:53:33</td>\n",
       "      <td>4/1/2017 00:00:28</td>\n",
       "      <td>4247.0</td>\n",
       "      <td>415.0</td>\n",
       "      <td>327.0</td>\n",
       "      <td>Sheffield Ave &amp; Webster Ave</td>\n",
       "      <td>331.0</td>\n",
       "      <td>Halsted St &amp; Blackhawk St (*)</td>\n",
       "      <td>Subscriber</td>\n",
       "      <td>Female</td>\n",
       "      <td>1989.0</td>\n",
       "      <td>13518901.0</td>\n",
       "      <td>28.0</td>\n",
       "    </tr>\n",
       "  </tbody>\n",
       "</table>\n",
       "</div>"
      ],
      "text/plain": [
       "           start_time            end_time  bikeid  tripduration  \\\n",
       "0  3/31/2017 23:59:07   4/1/2017 00:13:24  5292.0         857.0   \n",
       "1  3/31/2017 23:56:25   4/1/2017 00:00:21  4408.0         236.0   \n",
       "2  3/31/2017 23:55:33   4/1/2017 00:01:21   696.0         348.0   \n",
       "3  3/31/2017 23:54:46  3/31/2017 23:59:34  4915.0         288.0   \n",
       "4  3/31/2017 23:53:33   4/1/2017 00:00:28  4247.0         415.0   \n",
       "\n",
       "   from_station_id            from_station_name  to_station_id  \\\n",
       "0             66.0         Clinton St & Lake St          171.0   \n",
       "1            199.0       Wabash Ave & Grand Ave           26.0   \n",
       "2            520.0   Greenview Ave & Jarvis Ave          432.0   \n",
       "3            110.0        Dearborn St & Erie St          142.0   \n",
       "4            327.0  Sheffield Ave & Webster Ave          331.0   \n",
       "\n",
       "                 to_station_name    usertype  gender  birthyear     trip_id  \\\n",
       "0          May St & Cullerton St  Subscriber    Male     1989.0  13518905.0   \n",
       "1       McClurg Ct & Illinois St  Subscriber    Male     1990.0  13518904.0   \n",
       "2            Clark St & Lunt Ave  Subscriber  Female     1979.0  13518903.0   \n",
       "3           McClurg Ct & Erie St  Subscriber    Male     1985.0  13518902.0   \n",
       "4  Halsted St & Blackhawk St (*)  Subscriber  Female     1989.0  13518901.0   \n",
       "\n",
       "    Age  \n",
       "0  28.0  \n",
       "1  27.0  \n",
       "2  38.0  \n",
       "3  32.0  \n",
       "4  28.0  "
      ]
     },
     "execution_count": 386,
     "metadata": {},
     "output_type": "execute_result"
    }
   ],
   "source": [
    "df=df.drop(['year'],axis=1)\n",
    "df.head()"
   ]
  },
  {
   "cell_type": "markdown",
   "metadata": {},
   "source": [
    "### Graph 1: HISTOGRAM PLOT - Frequency of Divvy rides by Age"
   ]
  },
  {
   "cell_type": "code",
   "execution_count": 456,
   "metadata": {},
   "outputs": [
    {
     "data": {
      "image/png": "[encoded data removed]",
      "text/plain": [
       "<matplotlib.figure.Figure at 0x1d644577278>"
      ]
     },
     "metadata": {},
     "output_type": "display_data"
    }
   ],
   "source": [
    "plt.subplots(figsize=(14,10))\n",
    "l=range(0,85,5)\n",
    "bins = range(0,90,5)\n",
    "plt.hist(df['Age'],bins,color='r')\n",
    "plt.xlim(0,90)\n",
    "plt.xticks(l)\n",
    "plt.xlabel('Age')\n",
    "plt.ylabel('Frequency')\n",
    "plt.title('Frequency of Divvy Rides by Age')\n",
    "plt.show()"
   ]
  },
  {
   "cell_type": "markdown",
   "metadata": {},
   "source": [
    "###  Graph 2: TOP 10 MOST USED DIVVY STATIONS"
   ]
  },
  {
   "cell_type": "code",
   "execution_count": 452,
   "metadata": {},
   "outputs": [
    {
     "data": {
      "image/png": "[encoded data removed]",
      "text/plain": [
       "<matplotlib.figure.Figure at 0x1d620f1f048>"
      ]
     },
     "metadata": {},
     "output_type": "display_data"
    }
   ],
   "source": [
    "gn = df['from_station_name'].groupby(df['from_station_name']).count()\n",
    "gn =gn.sort_values(ascending=False)\n",
    "gn.head(10).plot('barh',color='r')\n",
    "plt.xlabel('Station Count')\n",
    "plt.ylabel('Divvy Station Name')\n",
    "plt.title('10 Most used Divvy Stations')\n",
    "plt.show()"
   ]
  },
  {
   "cell_type": "markdown",
   "metadata": {},
   "source": [
    "###  Graph 3:  Gender vs Total No. of Rides"
   ]
  },
  {
   "cell_type": "code",
   "execution_count": 451,
   "metadata": {},
   "outputs": [
    {
     "data": {
      "image/png": "[encoded data removed]",
      "text/plain": [
       "<matplotlib.figure.Figure at 0x1d620ed4b00>"
      ]
     },
     "metadata": {},
     "output_type": "display_data"
    }
   ],
   "source": [
    "plt.subplots(figsize=(14,10))\n",
    "l=range(0,1200000,100000)\n",
    "df['gender'].groupby(df['gender']).count().plot('bar',color='r')\n",
    "plt.xticks(rotation=360)\n",
    "plt.yticks(l)\n",
    "plt.xlabel('Gender')\n",
    "plt.ylabel('Frequency (Count of total rides)')\n",
    "plt.title('Frequency of Divvy Rides by Gender')\n",
    "plt.show()"
   ]
  },
  {
   "cell_type": "markdown",
   "metadata": {},
   "source": [
    "###  Graph 4: Total number rides by Month \n",
    "### Thus, we can see that as we move from January (1) to June (6), no of rides taken increases"
   ]
  },
  {
   "cell_type": "code",
   "execution_count": 397,
   "metadata": {},
   "outputs": [],
   "source": [
    "import datetime as dt"
   ]
  },
  {
   "cell_type": "code",
   "execution_count": 450,
   "metadata": {},
   "outputs": [
    {
     "data": {
      "image/png": "[encoded data removed]",
      "text/plain": [
       "<matplotlib.figure.Figure at 0x1d63202c518>"
      ]
     },
     "metadata": {},
     "output_type": "display_data"
    }
   ],
   "source": [
    "df['start_time'] = pd.to_datetime(df['start_time'])\n",
    "df['month'] = df['start_time'].dt.month\n",
    "df['month'].groupby(df['month']).count().plot('bar',color='r')\n",
    "plt.xticks(rotation=360)\n",
    "\n",
    "plt.xlabel('Month')\n",
    "x = np.array([0,1,2,3,4,5])\n",
    "my_xticks = ['January','February','March','April', 'May','June']\n",
    "\n",
    "plt.xticks(x, my_xticks)\n",
    "plt.ylabel('Frequency (Count of total rides)')\n",
    "plt.title('Frequency of Divvy Rides by Month')\n",
    "plt.show()\n"
   ]
  },
  {
   "cell_type": "markdown",
   "metadata": {},
   "source": []
  },
  {
   "cell_type": "markdown",
   "metadata": {},
   "source": [
    "### Graph 5: Total Trip Duration vs Gender \n",
    "\n",
    "Here, Y-axis is 10^8 in seconds, thus we can clearly see Male riders spend more time cycling than Female riders."
   ]
  },
  {
   "cell_type": "code",
   "execution_count": 449,
   "metadata": {},
   "outputs": [
    {
     "data": {
      "image/png": "[encoded data removed]",
      "text/plain": [
       "<matplotlib.figure.Figure at 0x1d6213aa668>"
      ]
     },
     "metadata": {},
     "output_type": "display_data"
    }
   ],
   "source": [
    "plt.subplots(figsize=(14,10))\n",
    "df['tripduration'].groupby(df['gender']).sum().plot('bar',color='r')\n",
    "\n",
    "plt.xticks(rotation=360)\n",
    "plt.xlabel('Gender')\n",
    "plt.ylabel('Frequency (Count of total rides)')\n",
    "plt.title('Total Trip Duration vs Gender')\n",
    "plt.show()"
   ]
  },
  {
   "cell_type": "markdown",
   "metadata": {},
   "source": [
    " ### Graph 6: Days vs Total No of Rides. "
   ]
  },
  {
   "cell_type": "code",
   "execution_count": 448,
   "metadata": {},
   "outputs": [
    {
     "data": {
      "image/png": "[encoded data removed]",
      "text/plain": [
       "<matplotlib.figure.Figure at 0x1d620eaa9e8>"
      ]
     },
     "metadata": {},
     "output_type": "display_data"
    }
   ],
   "source": [
    "plt.subplots(figsize=(14,10))\n",
    "df['day']=df['start_time'].dt.weekday_name\n",
    "\n",
    "l=range(0,240000,15000)\n",
    "df['day'].groupby(df['day']).count().plot('bar',color='r')\n",
    "plt.xticks(rotation=360)\n",
    "plt.yticks(l)\n",
    "\n",
    "\n",
    "plt.xlabel('Days',size=15)\n",
    "x = np.array([0,1,2,3,4,5,6,7])\n",
    "my_xticks = ['Sunday','Monday','Tuesday','Wednesday','Thursday', 'Friday','Saturday']\n",
    "\n",
    "plt.xticks(x, my_xticks)\n",
    "plt.ylabel('Frequency (Count of total rides)',)\n",
    "plt.title('Frequency of Divvy Rides by Day',size=20)\n",
    "plt.show()\n",
    "\n"
   ]
  },
  {
   "cell_type": "code",
   "execution_count": 501,
   "metadata": {},
   "outputs": [],
   "source": [
    "df1 = pd.read_csv(r'C:\\Users\\Mayur\\Downloads\\Main_Divvy_File.csv')"
   ]
  },
  {
   "cell_type": "code",
   "execution_count": 502,
   "metadata": {},
   "outputs": [
    {
     "data": {
      "text/html": [
       "<div>\n",
       "<style>\n",
       "    .dataframe thead tr:only-child th {\n",
       "        text-align: right;\n",
       "    }\n",
       "\n",
       "    .dataframe thead th {\n",
       "        text-align: left;\n",
       "    }\n",
       "\n",
       "    .dataframe tbody tr th {\n",
       "        vertical-align: top;\n",
       "    }\n",
       "</style>\n",
       "<table border=\"1\" class=\"dataframe\">\n",
       "  <thead>\n",
       "    <tr style=\"text-align: right;\">\n",
       "      <th></th>\n",
       "      <th>start_time</th>\n",
       "      <th>end_time</th>\n",
       "      <th>bikeid</th>\n",
       "      <th>tripduration</th>\n",
       "      <th>from_station_id</th>\n",
       "      <th>from_station_name</th>\n",
       "      <th>to_station_id</th>\n",
       "      <th>to_station_name</th>\n",
       "      <th>usertype</th>\n",
       "      <th>gender</th>\n",
       "      <th>birthyear</th>\n",
       "      <th>trip_id</th>\n",
       "    </tr>\n",
       "  </thead>\n",
       "  <tbody>\n",
       "    <tr>\n",
       "      <th>0</th>\n",
       "      <td>3/31/2017 23:59:07</td>\n",
       "      <td>4/1/2017 00:13:24</td>\n",
       "      <td>5292.0</td>\n",
       "      <td>857.0</td>\n",
       "      <td>66.0</td>\n",
       "      <td>Clinton St &amp; Lake St</td>\n",
       "      <td>171.0</td>\n",
       "      <td>May St &amp; Cullerton St</td>\n",
       "      <td>Subscriber</td>\n",
       "      <td>Male</td>\n",
       "      <td>1989.0</td>\n",
       "      <td>13518905.0</td>\n",
       "    </tr>\n",
       "    <tr>\n",
       "      <th>1</th>\n",
       "      <td>3/31/2017 23:56:25</td>\n",
       "      <td>4/1/2017 00:00:21</td>\n",
       "      <td>4408.0</td>\n",
       "      <td>236.0</td>\n",
       "      <td>199.0</td>\n",
       "      <td>Wabash Ave &amp; Grand Ave</td>\n",
       "      <td>26.0</td>\n",
       "      <td>McClurg Ct &amp; Illinois St</td>\n",
       "      <td>Subscriber</td>\n",
       "      <td>Male</td>\n",
       "      <td>1990.0</td>\n",
       "      <td>13518904.0</td>\n",
       "    </tr>\n",
       "    <tr>\n",
       "      <th>2</th>\n",
       "      <td>3/31/2017 23:55:33</td>\n",
       "      <td>4/1/2017 00:01:21</td>\n",
       "      <td>696.0</td>\n",
       "      <td>348.0</td>\n",
       "      <td>520.0</td>\n",
       "      <td>Greenview Ave &amp; Jarvis Ave</td>\n",
       "      <td>432.0</td>\n",
       "      <td>Clark St &amp; Lunt Ave</td>\n",
       "      <td>Subscriber</td>\n",
       "      <td>Female</td>\n",
       "      <td>1979.0</td>\n",
       "      <td>13518903.0</td>\n",
       "    </tr>\n",
       "    <tr>\n",
       "      <th>3</th>\n",
       "      <td>3/31/2017 23:54:46</td>\n",
       "      <td>3/31/2017 23:59:34</td>\n",
       "      <td>4915.0</td>\n",
       "      <td>288.0</td>\n",
       "      <td>110.0</td>\n",
       "      <td>Dearborn St &amp; Erie St</td>\n",
       "      <td>142.0</td>\n",
       "      <td>McClurg Ct &amp; Erie St</td>\n",
       "      <td>Subscriber</td>\n",
       "      <td>Male</td>\n",
       "      <td>1985.0</td>\n",
       "      <td>13518902.0</td>\n",
       "    </tr>\n",
       "    <tr>\n",
       "      <th>4</th>\n",
       "      <td>3/31/2017 23:53:33</td>\n",
       "      <td>4/1/2017 00:00:28</td>\n",
       "      <td>4247.0</td>\n",
       "      <td>415.0</td>\n",
       "      <td>327.0</td>\n",
       "      <td>Sheffield Ave &amp; Webster Ave</td>\n",
       "      <td>331.0</td>\n",
       "      <td>Halsted St &amp; Blackhawk St (*)</td>\n",
       "      <td>Subscriber</td>\n",
       "      <td>Female</td>\n",
       "      <td>1989.0</td>\n",
       "      <td>13518901.0</td>\n",
       "    </tr>\n",
       "  </tbody>\n",
       "</table>\n",
       "</div>"
      ],
      "text/plain": [
       "           start_time            end_time  bikeid  tripduration  \\\n",
       "0  3/31/2017 23:59:07   4/1/2017 00:13:24  5292.0         857.0   \n",
       "1  3/31/2017 23:56:25   4/1/2017 00:00:21  4408.0         236.0   \n",
       "2  3/31/2017 23:55:33   4/1/2017 00:01:21   696.0         348.0   \n",
       "3  3/31/2017 23:54:46  3/31/2017 23:59:34  4915.0         288.0   \n",
       "4  3/31/2017 23:53:33   4/1/2017 00:00:28  4247.0         415.0   \n",
       "\n",
       "   from_station_id            from_station_name  to_station_id  \\\n",
       "0             66.0         Clinton St & Lake St          171.0   \n",
       "1            199.0       Wabash Ave & Grand Ave           26.0   \n",
       "2            520.0   Greenview Ave & Jarvis Ave          432.0   \n",
       "3            110.0        Dearborn St & Erie St          142.0   \n",
       "4            327.0  Sheffield Ave & Webster Ave          331.0   \n",
       "\n",
       "                 to_station_name    usertype  gender  birthyear     trip_id  \n",
       "0          May St & Cullerton St  Subscriber    Male     1989.0  13518905.0  \n",
       "1       McClurg Ct & Illinois St  Subscriber    Male     1990.0  13518904.0  \n",
       "2            Clark St & Lunt Ave  Subscriber  Female     1979.0  13518903.0  \n",
       "3           McClurg Ct & Erie St  Subscriber    Male     1985.0  13518902.0  \n",
       "4  Halsted St & Blackhawk St (*)  Subscriber  Female     1989.0  13518901.0  "
      ]
     },
     "execution_count": 502,
     "metadata": {},
     "output_type": "execute_result"
    }
   ],
   "source": [
    "df1.head()"
   ]
  },
  {
   "cell_type": "code",
   "execution_count": 503,
   "metadata": {
    "collapsed": true
   },
   "outputs": [],
   "source": [
    "sum(df1.isnull().values.ravel())\n",
    "df1=df1.dropna()"
   ]
  },
  {
   "cell_type": "code",
   "execution_count": 504,
   "metadata": {},
   "outputs": [
    {
     "name": "stdout",
     "output_type": "stream",
     "text": [
      "<class 'pandas.core.frame.DataFrame'>\n",
      "Int64Index: 1234638 entries, 0 to 1551504\n",
      "Data columns (total 12 columns):\n",
      "start_time           1234638 non-null object\n",
      "end_time             1234638 non-null object\n",
      "bikeid               1234638 non-null float64\n",
      "tripduration         1234638 non-null float64\n",
      "from_station_id      1234638 non-null float64\n",
      "from_station_name    1234638 non-null object\n",
      "to_station_id        1234638 non-null float64\n",
      "to_station_name      1234638 non-null object\n",
      "usertype             1234638 non-null object\n",
      "gender               1234638 non-null object\n",
      "birthyear            1234638 non-null float64\n",
      "trip_id              1234638 non-null float64\n",
      "dtypes: float64(6), object(6)\n",
      "memory usage: 122.5+ MB\n"
     ]
    }
   ],
   "source": [
    "df1.info()"
   ]
  },
  {
   "cell_type": "code",
   "execution_count": 505,
   "metadata": {},
   "outputs": [],
   "source": [
    "df1[\"Gender\"]=0\n",
    "df1['Gender']=np.where(df1.gender==\"Male\", 0,np.where(df1.gender==\"Female\",1, \"NAN\"))\n",
    "df1.drop('gender',axis=1,inplace=True)"
   ]
  },
  {
   "cell_type": "code",
   "execution_count": 506,
   "metadata": {},
   "outputs": [],
   "source": [
    "df1[\"Usertype\"]=0\n",
    "df1['Usertype']=np.where(df1.usertype==\"Subscriber\", 2,np.where(df1.usertype==\"Customer\", 3,\n",
    "                                                                np.where(df1.usertype==\"Dependent\",4, \"NAN\")))\n",
    "df1.drop('usertype',axis=1,inplace=True)"
   ]
  },
  {
   "cell_type": "markdown",
   "metadata": {},
   "source": [
    "### FEATURE ENGINEERING.\n",
    "\n",
    "Splitting the Start time and date into individual variables of month, day and hours which is one of the more important factors in deciding the trip duration\n",
    "\n",
    "I also got rid of birth year and instead calculated the Age of the individual.\n",
    "\n",
    "I have also dropped unneccesary columns as shown below. "
   ]
  },
  {
   "cell_type": "code",
   "execution_count": 507,
   "metadata": {
    "collapsed": true
   },
   "outputs": [],
   "source": [
    "x=df1.drop(['from_station_name','to_station_name','trip_id','tripduration','start_time','end_time'],axis=1)\n",
    "y=df1['tripduration']"
   ]
  },
  {
   "cell_type": "code",
   "execution_count": 508,
   "metadata": {
    "collapsed": true
   },
   "outputs": [],
   "source": [
    "from sklearn.model_selection import train_test_split\n",
    "X_train, X_test, y_train, y_test = train_test_split(x,y,random_state=1)"
   ]
  },
  {
   "cell_type": "code",
   "execution_count": 509,
   "metadata": {
    "collapsed": true
   },
   "outputs": [],
   "source": [
    "from dateutil.parser import parse"
   ]
  },
  {
   "cell_type": "code",
   "execution_count": 510,
   "metadata": {
    "collapsed": true
   },
   "outputs": [],
   "source": [
    "df1['Day'] = [parse(i).day for i in df1.start_time]\n",
    "df1['Month'] = [parse(i).month for i in df1.start_time]\n",
    "df1['Hour'] = [parse(i).hour for i in df1.start_time]"
   ]
  },
  {
   "cell_type": "code",
   "execution_count": 511,
   "metadata": {},
   "outputs": [
    {
     "data": {
      "text/html": [
       "<div>\n",
       "<style>\n",
       "    .dataframe thead tr:only-child th {\n",
       "        text-align: right;\n",
       "    }\n",
       "\n",
       "    .dataframe thead th {\n",
       "        text-align: left;\n",
       "    }\n",
       "\n",
       "    .dataframe tbody tr th {\n",
       "        vertical-align: top;\n",
       "    }\n",
       "</style>\n",
       "<table border=\"1\" class=\"dataframe\">\n",
       "  <thead>\n",
       "    <tr style=\"text-align: right;\">\n",
       "      <th></th>\n",
       "      <th>start_time</th>\n",
       "      <th>end_time</th>\n",
       "      <th>bikeid</th>\n",
       "      <th>tripduration</th>\n",
       "      <th>from_station_id</th>\n",
       "      <th>from_station_name</th>\n",
       "      <th>to_station_id</th>\n",
       "      <th>to_station_name</th>\n",
       "      <th>birthyear</th>\n",
       "      <th>trip_id</th>\n",
       "      <th>Gender</th>\n",
       "      <th>Usertype</th>\n",
       "      <th>Day</th>\n",
       "      <th>Month</th>\n",
       "      <th>Hour</th>\n",
       "    </tr>\n",
       "  </thead>\n",
       "  <tbody>\n",
       "    <tr>\n",
       "      <th>0</th>\n",
       "      <td>3/31/2017 23:59:07</td>\n",
       "      <td>4/1/2017 00:13:24</td>\n",
       "      <td>5292.0</td>\n",
       "      <td>857.0</td>\n",
       "      <td>66.0</td>\n",
       "      <td>Clinton St &amp; Lake St</td>\n",
       "      <td>171.0</td>\n",
       "      <td>May St &amp; Cullerton St</td>\n",
       "      <td>1989.0</td>\n",
       "      <td>13518905.0</td>\n",
       "      <td>0</td>\n",
       "      <td>2</td>\n",
       "      <td>31</td>\n",
       "      <td>3</td>\n",
       "      <td>23</td>\n",
       "    </tr>\n",
       "    <tr>\n",
       "      <th>1</th>\n",
       "      <td>3/31/2017 23:56:25</td>\n",
       "      <td>4/1/2017 00:00:21</td>\n",
       "      <td>4408.0</td>\n",
       "      <td>236.0</td>\n",
       "      <td>199.0</td>\n",
       "      <td>Wabash Ave &amp; Grand Ave</td>\n",
       "      <td>26.0</td>\n",
       "      <td>McClurg Ct &amp; Illinois St</td>\n",
       "      <td>1990.0</td>\n",
       "      <td>13518904.0</td>\n",
       "      <td>0</td>\n",
       "      <td>2</td>\n",
       "      <td>31</td>\n",
       "      <td>3</td>\n",
       "      <td>23</td>\n",
       "    </tr>\n",
       "    <tr>\n",
       "      <th>2</th>\n",
       "      <td>3/31/2017 23:55:33</td>\n",
       "      <td>4/1/2017 00:01:21</td>\n",
       "      <td>696.0</td>\n",
       "      <td>348.0</td>\n",
       "      <td>520.0</td>\n",
       "      <td>Greenview Ave &amp; Jarvis Ave</td>\n",
       "      <td>432.0</td>\n",
       "      <td>Clark St &amp; Lunt Ave</td>\n",
       "      <td>1979.0</td>\n",
       "      <td>13518903.0</td>\n",
       "      <td>1</td>\n",
       "      <td>2</td>\n",
       "      <td>31</td>\n",
       "      <td>3</td>\n",
       "      <td>23</td>\n",
       "    </tr>\n",
       "    <tr>\n",
       "      <th>3</th>\n",
       "      <td>3/31/2017 23:54:46</td>\n",
       "      <td>3/31/2017 23:59:34</td>\n",
       "      <td>4915.0</td>\n",
       "      <td>288.0</td>\n",
       "      <td>110.0</td>\n",
       "      <td>Dearborn St &amp; Erie St</td>\n",
       "      <td>142.0</td>\n",
       "      <td>McClurg Ct &amp; Erie St</td>\n",
       "      <td>1985.0</td>\n",
       "      <td>13518902.0</td>\n",
       "      <td>0</td>\n",
       "      <td>2</td>\n",
       "      <td>31</td>\n",
       "      <td>3</td>\n",
       "      <td>23</td>\n",
       "    </tr>\n",
       "    <tr>\n",
       "      <th>4</th>\n",
       "      <td>3/31/2017 23:53:33</td>\n",
       "      <td>4/1/2017 00:00:28</td>\n",
       "      <td>4247.0</td>\n",
       "      <td>415.0</td>\n",
       "      <td>327.0</td>\n",
       "      <td>Sheffield Ave &amp; Webster Ave</td>\n",
       "      <td>331.0</td>\n",
       "      <td>Halsted St &amp; Blackhawk St (*)</td>\n",
       "      <td>1989.0</td>\n",
       "      <td>13518901.0</td>\n",
       "      <td>1</td>\n",
       "      <td>2</td>\n",
       "      <td>31</td>\n",
       "      <td>3</td>\n",
       "      <td>23</td>\n",
       "    </tr>\n",
       "  </tbody>\n",
       "</table>\n",
       "</div>"
      ],
      "text/plain": [
       "           start_time            end_time  bikeid  tripduration  \\\n",
       "0  3/31/2017 23:59:07   4/1/2017 00:13:24  5292.0         857.0   \n",
       "1  3/31/2017 23:56:25   4/1/2017 00:00:21  4408.0         236.0   \n",
       "2  3/31/2017 23:55:33   4/1/2017 00:01:21   696.0         348.0   \n",
       "3  3/31/2017 23:54:46  3/31/2017 23:59:34  4915.0         288.0   \n",
       "4  3/31/2017 23:53:33   4/1/2017 00:00:28  4247.0         415.0   \n",
       "\n",
       "   from_station_id            from_station_name  to_station_id  \\\n",
       "0             66.0         Clinton St & Lake St          171.0   \n",
       "1            199.0       Wabash Ave & Grand Ave           26.0   \n",
       "2            520.0   Greenview Ave & Jarvis Ave          432.0   \n",
       "3            110.0        Dearborn St & Erie St          142.0   \n",
       "4            327.0  Sheffield Ave & Webster Ave          331.0   \n",
       "\n",
       "                 to_station_name  birthyear     trip_id Gender Usertype  Day  \\\n",
       "0          May St & Cullerton St     1989.0  13518905.0      0        2   31   \n",
       "1       McClurg Ct & Illinois St     1990.0  13518904.0      0        2   31   \n",
       "2            Clark St & Lunt Ave     1979.0  13518903.0      1        2   31   \n",
       "3           McClurg Ct & Erie St     1985.0  13518902.0      0        2   31   \n",
       "4  Halsted St & Blackhawk St (*)     1989.0  13518901.0      1        2   31   \n",
       "\n",
       "   Month  Hour  \n",
       "0      3    23  \n",
       "1      3    23  \n",
       "2      3    23  \n",
       "3      3    23  \n",
       "4      3    23  "
      ]
     },
     "execution_count": 511,
     "metadata": {},
     "output_type": "execute_result"
    }
   ],
   "source": [
    "df1.head()"
   ]
  },
  {
   "cell_type": "code",
   "execution_count": 514,
   "metadata": {},
   "outputs": [
    {
     "data": {
      "text/html": [
       "<div>\n",
       "<style>\n",
       "    .dataframe thead tr:only-child th {\n",
       "        text-align: right;\n",
       "    }\n",
       "\n",
       "    .dataframe thead th {\n",
       "        text-align: left;\n",
       "    }\n",
       "\n",
       "    .dataframe tbody tr th {\n",
       "        vertical-align: top;\n",
       "    }\n",
       "</style>\n",
       "<table border=\"1\" class=\"dataframe\">\n",
       "  <thead>\n",
       "    <tr style=\"text-align: right;\">\n",
       "      <th></th>\n",
       "      <th>start_time</th>\n",
       "      <th>end_time</th>\n",
       "      <th>bikeid</th>\n",
       "      <th>tripduration</th>\n",
       "      <th>from_station_id</th>\n",
       "      <th>from_station_name</th>\n",
       "      <th>to_station_id</th>\n",
       "      <th>to_station_name</th>\n",
       "      <th>birthyear</th>\n",
       "      <th>trip_id</th>\n",
       "      <th>Gender</th>\n",
       "      <th>year</th>\n",
       "      <th>Usertype</th>\n",
       "      <th>Day</th>\n",
       "      <th>Month</th>\n",
       "      <th>Hour</th>\n",
       "      <th>Age</th>\n",
       "    </tr>\n",
       "  </thead>\n",
       "  <tbody>\n",
       "    <tr>\n",
       "      <th>0</th>\n",
       "      <td>3/31/2017 23:59:07</td>\n",
       "      <td>4/1/2017 00:13:24</td>\n",
       "      <td>5292.0</td>\n",
       "      <td>857.0</td>\n",
       "      <td>66.0</td>\n",
       "      <td>Clinton St &amp; Lake St</td>\n",
       "      <td>171.0</td>\n",
       "      <td>May St &amp; Cullerton St</td>\n",
       "      <td>1989.0</td>\n",
       "      <td>13518905.0</td>\n",
       "      <td>0</td>\n",
       "      <td>2017</td>\n",
       "      <td>2</td>\n",
       "      <td>31</td>\n",
       "      <td>3</td>\n",
       "      <td>23</td>\n",
       "      <td>28.0</td>\n",
       "    </tr>\n",
       "    <tr>\n",
       "      <th>1</th>\n",
       "      <td>3/31/2017 23:56:25</td>\n",
       "      <td>4/1/2017 00:00:21</td>\n",
       "      <td>4408.0</td>\n",
       "      <td>236.0</td>\n",
       "      <td>199.0</td>\n",
       "      <td>Wabash Ave &amp; Grand Ave</td>\n",
       "      <td>26.0</td>\n",
       "      <td>McClurg Ct &amp; Illinois St</td>\n",
       "      <td>1990.0</td>\n",
       "      <td>13518904.0</td>\n",
       "      <td>0</td>\n",
       "      <td>2017</td>\n",
       "      <td>2</td>\n",
       "      <td>31</td>\n",
       "      <td>3</td>\n",
       "      <td>23</td>\n",
       "      <td>27.0</td>\n",
       "    </tr>\n",
       "    <tr>\n",
       "      <th>2</th>\n",
       "      <td>3/31/2017 23:55:33</td>\n",
       "      <td>4/1/2017 00:01:21</td>\n",
       "      <td>696.0</td>\n",
       "      <td>348.0</td>\n",
       "      <td>520.0</td>\n",
       "      <td>Greenview Ave &amp; Jarvis Ave</td>\n",
       "      <td>432.0</td>\n",
       "      <td>Clark St &amp; Lunt Ave</td>\n",
       "      <td>1979.0</td>\n",
       "      <td>13518903.0</td>\n",
       "      <td>1</td>\n",
       "      <td>2017</td>\n",
       "      <td>2</td>\n",
       "      <td>31</td>\n",
       "      <td>3</td>\n",
       "      <td>23</td>\n",
       "      <td>38.0</td>\n",
       "    </tr>\n",
       "    <tr>\n",
       "      <th>3</th>\n",
       "      <td>3/31/2017 23:54:46</td>\n",
       "      <td>3/31/2017 23:59:34</td>\n",
       "      <td>4915.0</td>\n",
       "      <td>288.0</td>\n",
       "      <td>110.0</td>\n",
       "      <td>Dearborn St &amp; Erie St</td>\n",
       "      <td>142.0</td>\n",
       "      <td>McClurg Ct &amp; Erie St</td>\n",
       "      <td>1985.0</td>\n",
       "      <td>13518902.0</td>\n",
       "      <td>0</td>\n",
       "      <td>2017</td>\n",
       "      <td>2</td>\n",
       "      <td>31</td>\n",
       "      <td>3</td>\n",
       "      <td>23</td>\n",
       "      <td>32.0</td>\n",
       "    </tr>\n",
       "    <tr>\n",
       "      <th>4</th>\n",
       "      <td>3/31/2017 23:53:33</td>\n",
       "      <td>4/1/2017 00:00:28</td>\n",
       "      <td>4247.0</td>\n",
       "      <td>415.0</td>\n",
       "      <td>327.0</td>\n",
       "      <td>Sheffield Ave &amp; Webster Ave</td>\n",
       "      <td>331.0</td>\n",
       "      <td>Halsted St &amp; Blackhawk St (*)</td>\n",
       "      <td>1989.0</td>\n",
       "      <td>13518901.0</td>\n",
       "      <td>1</td>\n",
       "      <td>2017</td>\n",
       "      <td>2</td>\n",
       "      <td>31</td>\n",
       "      <td>3</td>\n",
       "      <td>23</td>\n",
       "      <td>28.0</td>\n",
       "    </tr>\n",
       "  </tbody>\n",
       "</table>\n",
       "</div>"
      ],
      "text/plain": [
       "           start_time            end_time  bikeid  tripduration  \\\n",
       "0  3/31/2017 23:59:07   4/1/2017 00:13:24  5292.0         857.0   \n",
       "1  3/31/2017 23:56:25   4/1/2017 00:00:21  4408.0         236.0   \n",
       "2  3/31/2017 23:55:33   4/1/2017 00:01:21   696.0         348.0   \n",
       "3  3/31/2017 23:54:46  3/31/2017 23:59:34  4915.0         288.0   \n",
       "4  3/31/2017 23:53:33   4/1/2017 00:00:28  4247.0         415.0   \n",
       "\n",
       "   from_station_id            from_station_name  to_station_id  \\\n",
       "0             66.0         Clinton St & Lake St          171.0   \n",
       "1            199.0       Wabash Ave & Grand Ave           26.0   \n",
       "2            520.0   Greenview Ave & Jarvis Ave          432.0   \n",
       "3            110.0        Dearborn St & Erie St          142.0   \n",
       "4            327.0  Sheffield Ave & Webster Ave          331.0   \n",
       "\n",
       "                 to_station_name  birthyear     trip_id Gender  year Usertype  \\\n",
       "0          May St & Cullerton St     1989.0  13518905.0      0  2017        2   \n",
       "1       McClurg Ct & Illinois St     1990.0  13518904.0      0  2017        2   \n",
       "2            Clark St & Lunt Ave     1979.0  13518903.0      1  2017        2   \n",
       "3           McClurg Ct & Erie St     1985.0  13518902.0      0  2017        2   \n",
       "4  Halsted St & Blackhawk St (*)     1989.0  13518901.0      1  2017        2   \n",
       "\n",
       "   Day  Month  Hour   Age  \n",
       "0   31      3    23  28.0  \n",
       "1   31      3    23  27.0  \n",
       "2   31      3    23  38.0  \n",
       "3   31      3    23  32.0  \n",
       "4   31      3    23  28.0  "
      ]
     },
     "execution_count": 514,
     "metadata": {},
     "output_type": "execute_result"
    }
   ],
   "source": [
    "year=2017\n",
    "df1.insert(11,'year', 2017)\n",
    "\n",
    "df1['Age'] = df1['year'] - df1['birthyear']\n"
   ]
  },
  {
   "cell_type": "code",
   "execution_count": 515,
   "metadata": {},
   "outputs": [],
   "source": [
    "x=df1.drop(['bikeid','from_station_name','to_station_name','trip_id','tripduration','start_time','end_time','start_time','birthyear','year'],axis=1)\n",
    "y=df1['tripduration']"
   ]
  },
  {
   "cell_type": "markdown",
   "metadata": {},
   "source": [
    "### Here, I am selecting the IMPORTANT FEATURES via XGB Regressor and then using those features to further solve the questions"
   ]
  },
  {
   "cell_type": "code",
   "execution_count": 518,
   "metadata": {},
   "outputs": [],
   "source": [
    "X_train, X_test, y_train, y_test = train_test_split(x,y,random_state=1)"
   ]
  },
  {
   "cell_type": "code",
   "execution_count": 519,
   "metadata": {},
   "outputs": [
    {
     "name": "stdout",
     "output_type": "stream",
     "text": [
      "Feautre Importances via XGB Regressor: \n",
      "                   importance\n",
      "feature                    \n",
      "from_station_id        21.3\n",
      "to_station_id          21.0\n",
      "Day                    18.2\n",
      "Age                    17.4\n",
      "Hour                   14.5\n",
      "Month                   7.3\n",
      "Gender                  0.2\n",
      "Usertype                0.0 %\n"
     ]
    },
    {
     "data": {
      "text/plain": [
       "<matplotlib.axes._subplots.AxesSubplot at 0x1d6fda2c4e0>"
      ]
     },
     "execution_count": 519,
     "metadata": {},
     "output_type": "execute_result"
    },
    {
     "data": {
      "image/png": "[encoded data removed]",
      "text/plain": [
       "<matplotlib.figure.Figure at 0x1d6fda2c470>"
      ]
     },
     "metadata": {},
     "output_type": "display_data"
    }
   ],
   "source": [
    "from sklearn.ensemble import RandomForestRegressor\n",
    "\n",
    "rfc_model = RandomForestRegressor()\n",
    "rfc_model.fit(X_train, y_train)\n",
    "importances = pd.DataFrame({'feature':x.columns,'importance':np.round(rfc_model.feature_importances_,3)})\n",
    "importances = importances.sort_values('importance',ascending=False).set_index('feature')\n",
    " \n",
    "print(\"Feautre Importances via XGB Regressor: \\n \", importances*100,\"%\")\n",
    "importances.plot.bar()"
   ]
  },
  {
   "cell_type": "code",
   "execution_count": 520,
   "metadata": {},
   "outputs": [
    {
     "data": {
      "text/html": [
       "<div>\n",
       "<style>\n",
       "    .dataframe thead tr:only-child th {\n",
       "        text-align: right;\n",
       "    }\n",
       "\n",
       "    .dataframe thead th {\n",
       "        text-align: left;\n",
       "    }\n",
       "\n",
       "    .dataframe tbody tr th {\n",
       "        vertical-align: top;\n",
       "    }\n",
       "</style>\n",
       "<table border=\"1\" class=\"dataframe\">\n",
       "  <thead>\n",
       "    <tr style=\"text-align: right;\">\n",
       "      <th></th>\n",
       "      <th>from_station_id</th>\n",
       "      <th>to_station_id</th>\n",
       "      <th>Gender</th>\n",
       "      <th>Usertype</th>\n",
       "      <th>Day</th>\n",
       "      <th>Month</th>\n",
       "      <th>Hour</th>\n",
       "      <th>Age</th>\n",
       "    </tr>\n",
       "  </thead>\n",
       "  <tbody>\n",
       "    <tr>\n",
       "      <th>0</th>\n",
       "      <td>66.0</td>\n",
       "      <td>171.0</td>\n",
       "      <td>0</td>\n",
       "      <td>2</td>\n",
       "      <td>31</td>\n",
       "      <td>3</td>\n",
       "      <td>23</td>\n",
       "      <td>28.0</td>\n",
       "    </tr>\n",
       "    <tr>\n",
       "      <th>1</th>\n",
       "      <td>199.0</td>\n",
       "      <td>26.0</td>\n",
       "      <td>0</td>\n",
       "      <td>2</td>\n",
       "      <td>31</td>\n",
       "      <td>3</td>\n",
       "      <td>23</td>\n",
       "      <td>27.0</td>\n",
       "    </tr>\n",
       "    <tr>\n",
       "      <th>2</th>\n",
       "      <td>520.0</td>\n",
       "      <td>432.0</td>\n",
       "      <td>1</td>\n",
       "      <td>2</td>\n",
       "      <td>31</td>\n",
       "      <td>3</td>\n",
       "      <td>23</td>\n",
       "      <td>38.0</td>\n",
       "    </tr>\n",
       "    <tr>\n",
       "      <th>3</th>\n",
       "      <td>110.0</td>\n",
       "      <td>142.0</td>\n",
       "      <td>0</td>\n",
       "      <td>2</td>\n",
       "      <td>31</td>\n",
       "      <td>3</td>\n",
       "      <td>23</td>\n",
       "      <td>32.0</td>\n",
       "    </tr>\n",
       "    <tr>\n",
       "      <th>4</th>\n",
       "      <td>327.0</td>\n",
       "      <td>331.0</td>\n",
       "      <td>1</td>\n",
       "      <td>2</td>\n",
       "      <td>31</td>\n",
       "      <td>3</td>\n",
       "      <td>23</td>\n",
       "      <td>28.0</td>\n",
       "    </tr>\n",
       "  </tbody>\n",
       "</table>\n",
       "</div>"
      ],
      "text/plain": [
       "   from_station_id  to_station_id Gender Usertype  Day  Month  Hour   Age\n",
       "0             66.0          171.0      0        2   31      3    23  28.0\n",
       "1            199.0           26.0      0        2   31      3    23  27.0\n",
       "2            520.0          432.0      1        2   31      3    23  38.0\n",
       "3            110.0          142.0      0        2   31      3    23  32.0\n",
       "4            327.0          331.0      1        2   31      3    23  28.0"
      ]
     },
     "execution_count": 520,
     "metadata": {},
     "output_type": "execute_result"
    }
   ],
   "source": [
    "x.head()"
   ]
  },
  {
   "cell_type": "code",
   "execution_count": 521,
   "metadata": {},
   "outputs": [],
   "source": [
    "x1=x.drop(['Usertype'],axis=1)"
   ]
  },
  {
   "cell_type": "code",
   "execution_count": 522,
   "metadata": {
    "collapsed": true
   },
   "outputs": [],
   "source": [
    "x1.to_csv(\"Final Dataset - With Feature Engineering.csv\")"
   ]
  },
  {
   "cell_type": "code",
   "execution_count": 433,
   "metadata": {},
   "outputs": [],
   "source": [
    "X_train, X_test, y_train, y_test = train_test_split(x1,y,random_state=1)"
   ]
  },
  {
   "cell_type": "code",
   "execution_count": 303,
   "metadata": {},
   "outputs": [
    {
     "name": "stderr",
     "output_type": "stream",
     "text": [
      "[Parallel(n_jobs=6)]: Done  10 out of  10 | elapsed:   18.1s remaining:    0.0s\n",
      "[Parallel(n_jobs=6)]: Done  10 out of  10 | elapsed:   18.1s finished\n",
      "C:\\Users\\Mayur\\Anaconda3\\lib\\site-packages\\sklearn\\ensemble\\forest.py:724: UserWarning: Some inputs do not have OOB scores. This probably means too few trees were used to compute any reliable oob estimates.\n",
      "  warn(\"Some inputs do not have OOB scores. \"\n",
      "[Parallel(n_jobs=6)]: Done  10 out of  10 | elapsed:    0.6s remaining:    0.0s\n",
      "[Parallel(n_jobs=6)]: Done  10 out of  10 | elapsed:    0.6s finished\n",
      "[Parallel(n_jobs=6)]: Done  20 out of  20 | elapsed:   35.7s finished\n",
      "C:\\Users\\Mayur\\Anaconda3\\lib\\site-packages\\sklearn\\ensemble\\forest.py:724: UserWarning: Some inputs do not have OOB scores. This probably means too few trees were used to compute any reliable oob estimates.\n",
      "  warn(\"Some inputs do not have OOB scores. \"\n",
      "[Parallel(n_jobs=6)]: Done  20 out of  20 | elapsed:    1.3s finished\n",
      "[Parallel(n_jobs=6)]: Done  38 tasks      | elapsed:  1.1min\n",
      "[Parallel(n_jobs=6)]: Done  50 out of  50 | elapsed:  1.3min finished\n",
      "[Parallel(n_jobs=6)]: Done  38 tasks      | elapsed:    2.5s\n",
      "[Parallel(n_jobs=6)]: Done  50 out of  50 | elapsed:    3.1s finished\n",
      "[Parallel(n_jobs=6)]: Done  38 tasks      | elapsed:  1.1min\n",
      "[Parallel(n_jobs=6)]: Done  80 out of  80 | elapsed:  2.1min finished\n",
      "[Parallel(n_jobs=6)]: Done  38 tasks      | elapsed:    2.8s\n",
      "[Parallel(n_jobs=6)]: Done  80 out of  80 | elapsed:    5.5s finished\n",
      "[Parallel(n_jobs=6)]: Done  38 tasks      | elapsed:  1.1min\n",
      "[Parallel(n_jobs=6)]: Done 100 out of 100 | elapsed:  2.6min finished\n",
      "[Parallel(n_jobs=6)]: Done  38 tasks      | elapsed:    2.5s\n",
      "[Parallel(n_jobs=6)]: Done 100 out of 100 | elapsed:    6.2s finished\n",
      "[Parallel(n_jobs=6)]: Done  38 tasks      | elapsed:  1.1min\n",
      "[Parallel(n_jobs=6)]: Done 188 tasks      | elapsed:  5.1min\n",
      "[Parallel(n_jobs=6)]: Done 200 out of 200 | elapsed:  5.4min finished\n",
      "[Parallel(n_jobs=6)]: Done  38 tasks      | elapsed:  2.5min\n",
      "[Parallel(n_jobs=6)]: Done 188 tasks      | elapsed: 18.4min\n",
      "[Parallel(n_jobs=6)]: Done 200 out of 200 | elapsed: 18.7min finished\n"
     ]
    }
   ],
   "source": [
    "# Create the model and fit the data\n",
    "from sklearn.ensemble import RandomForestRegressor as RFR\n",
    "\n",
    "n_estimators = [10,20,50,80,100,200]\n",
    "oob_errors = []\n",
    "\n",
    "for n in n_estimators:\n",
    "    rfr = RFR(n_estimators=n, criterion=\"mse\", max_depth=None, min_samples_split=2, min_samples_leaf=1,\n",
    "                      min_weight_fraction_leaf=0.0, max_features=\"auto\", max_leaf_nodes=None, min_impurity_decrease=0.0,\n",
    "                      min_impurity_split=None,\n",
    "                      bootstrap=True, oob_score=True, n_jobs=6, random_state=1, verbose=1, warm_start=False)\n",
    "\n",
    "    rfr.fit(X_train,y_train)\n",
    "    y_pred = rfr.predict(X_test)\n",
    "    oob_errors.append(rfr.oob_score_)\n",
    "    "
   ]
  },
  {
   "cell_type": "code",
   "execution_count": 354,
   "metadata": {},
   "outputs": [
    {
     "name": "stdout",
     "output_type": "stream",
     "text": [
      "[-0.40386411641937747, -0.15934357115984055, -0.039612353782456422, -0.012987819688766722, -0.0038300172277851985, 0.013359989665981398]\n",
      "328.113694904\n"
     ]
    }
   ],
   "source": [
    "from sklearn.metrics import mean_squared_error,mean_absolute_error\n",
    "print(oob_errors)\n",
    "print(mean_absolute_error(y_test,y_pred))"
   ]
  },
  {
   "cell_type": "code",
   "execution_count": 305,
   "metadata": {},
   "outputs": [
    {
     "data": {
      "image/png": "[encoded data removed]",
      "text/plain": [
       "<matplotlib.figure.Figure at 0x1d60a01fd30>"
      ]
     },
     "metadata": {},
     "output_type": "display_data"
    }
   ],
   "source": [
    "# plot the results\n",
    "import matplotlib.pyplot as plt\n",
    "%matplotlib inline\n",
    "plt.plot(n_estimators,oob_errors)\n",
    "plt.xlabel(\"Number of estimators\")\n",
    "plt.ylabel(\"OOB Score\")\n",
    "plt.show()"
   ]
  },
  {
   "cell_type": "code",
   "execution_count": 434,
   "metadata": {
    "collapsed": true
   },
   "outputs": [],
   "source": [
    "x=df1.drop(['from_station_name','to_station_name','trip_id','tripduration','start_time','end_time'],axis=1)\n",
    "y=df1['tripduration']\n",
    "x1=x.drop(['Usertype'],axis=1)"
   ]
  },
  {
   "cell_type": "markdown",
   "metadata": {},
   "source": [
    "### For Grid Search here, I reduced the size of the dataset to       as it was taking a lot of time to execute. \n"
   ]
  },
  {
   "cell_type": "code",
   "execution_count": 435,
   "metadata": {},
   "outputs": [],
   "source": [
    "x1 = x1.drop(x1.index[range(100000,1234638)])\n",
    "y = y.drop(y.index[range(100000,1234638)])"
   ]
  },
  {
   "cell_type": "code",
   "execution_count": 436,
   "metadata": {},
   "outputs": [],
   "source": [
    "X_train, X_test, y_train, y_test = train_test_split(x1,y,test_size=0.3,random_state=1)"
   ]
  },
  {
   "cell_type": "code",
   "execution_count": 437,
   "metadata": {},
   "outputs": [
    {
     "name": "stdout",
     "output_type": "stream",
     "text": [
      "Fitting 3 folds for each of 36 candidates, totalling 108 fits\n"
     ]
    },
    {
     "name": "stderr",
     "output_type": "stream",
     "text": [
      "[Parallel(n_jobs=1)]: Done 108 out of 108 | elapsed:  7.5min finished\n"
     ]
    },
    {
     "name": "stdout",
     "output_type": "stream",
     "text": [
      "-0.0345895561144\n",
      "{'max_depth': 7, 'min_samples_split': 5, 'n_estimators': 50}\n"
     ]
    }
   ],
   "source": [
    "rm = RandomForestRegressor()\n",
    "rm.fit(X_train,y_train)\n",
    "from sklearn.model_selection import GridSearchCV\n",
    "random_1 = GridSearchCV(rm,{'n_estimators':[45,50,55],\n",
    "                             'max_depth':[7,8,10],\n",
    "                              'min_samples_split':[2,3,4,5]},verbose=1)\n",
    "random_1.fit(X_train,y_train)\n",
    "print(random_1.best_score_)\n",
    "print(random_1.best_params_)"
   ]
  },
  {
   "cell_type": "code",
   "execution_count": 438,
   "metadata": {},
   "outputs": [],
   "source": [
    "from sklearn.ensemble import RandomForestRegressor as rfr\n",
    "\n",
    "r_model = rfr(criterion=\"mse\", max_depth=7,\n",
    "                                        min_samples_split=5,\n",
    "                                        n_estimators=55,\n",
    "                                        bootstrap=True,\n",
    "                                        oob_score=True)\n",
    "\n",
    "r_model.fit(X_train,y_train)\n",
    "y_pred=r_model.predict(X_test)"
   ]
  },
  {
   "cell_type": "code",
   "execution_count": 439,
   "metadata": {},
   "outputs": [
    {
     "name": "stdout",
     "output_type": "stream",
     "text": [
      "Mean Absolute Error: 318.359392846\n",
      "Mean Squared Error: 1417995.0434\n"
     ]
    }
   ],
   "source": [
    "from sklearn.metrics import mean_squared_error,mean_absolute_error\n",
    "\n",
    "print(\"Mean Absolute Error:\",mean_absolute_error(y_test,y_pred))\n",
    "print(\"Mean Squared Error:\",mean_squared_error(y_test,y_pred))"
   ]
  },
  {
   "cell_type": "code",
   "execution_count": null,
   "metadata": {
    "collapsed": true
   },
   "outputs": [],
   "source": []
  }
 ],
 "metadata": {
  "kernelspec": {
   "display_name": "Python 3",
   "language": "python",
   "name": "python3"
  },
  "language_info": {
   "codemirror_mode": {
    "name": "ipython",
    "version": 3
   },
   "file_extension": ".py",
   "mimetype": "text/x-python",
   "name": "python",
   "nbconvert_exporter": "python",
   "pygments_lexer": "ipython3",
   "version": "3.6.3"
  }
 },
 "nbformat": 4,
 "nbformat_minor": 2
}
